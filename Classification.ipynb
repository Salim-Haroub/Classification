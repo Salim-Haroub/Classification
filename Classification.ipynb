{
 "cells": [
  {
   "cell_type": "code",
   "execution_count": 23,
   "id": "1b7f3841",
   "metadata": {},
   "outputs": [],
   "source": [
    "import nltk\n",
    "import random\n",
    "from nltk.corpus import movie_reviews, twitter_samples, names, nps_chat\n",
    "from random import shuffle"
   ]
  },
  {
   "cell_type": "code",
   "execution_count": 30,
   "id": "02700043",
   "metadata": {},
   "outputs": [],
   "source": [
    "def gender_features(word):\n",
    "    return{'last_letter': word[-1]}\n",
    "\n",
    "labeled_names = ([(name, 'male') for name in names.words('male.txt')]\n",
    "                 + [(name, 'female') for name in names.words('female.txt')])\n",
    "\n",
    "shuffle(labeled_names)"
   ]
  },
  {
   "cell_type": "code",
   "execution_count": 31,
   "id": "46777faf",
   "metadata": {},
   "outputs": [],
   "source": [
    "from nltk.classify import apply_features\n",
    "\n",
    "train_set = apply_features(gender_features, labeled_names[500:])\n",
    "\n",
    "test_set = apply_features(gender_features, labeled_names[:500])\n",
    "\n",
    "classifier = nltk.NaiveBayesClassifier.train(train_set)"
   ]
  },
  {
   "cell_type": "code",
   "execution_count": 32,
   "id": "3125744f",
   "metadata": {},
   "outputs": [
    {
     "name": "stdout",
     "output_type": "stream",
     "text": [
      "Erin is a male\n",
      "Josh is a female\n"
     ]
    }
   ],
   "source": [
    "print('Erin is a ' + classifier.classify(gender_features('Erin')))\n",
    "print('Josh is a ' + classifier.classify(gender_features('Josh')))"
   ]
  },
  {
   "cell_type": "code",
   "execution_count": 33,
   "id": "c88e0b09",
   "metadata": {},
   "outputs": [
    {
     "name": "stdout",
     "output_type": "stream",
     "text": [
      "0.764\n"
     ]
    }
   ],
   "source": [
    "print(nltk.classify.accuracy(classifier,test_set))"
   ]
  },
  {
   "cell_type": "code",
   "execution_count": 170,
   "id": "4543aba2",
   "metadata": {},
   "outputs": [
    {
     "name": "stdout",
     "output_type": "stream",
     "text": [
      "Most Informative Features\n",
      "             last_letter = 'k'              male : female =     46.8 : 1.0\n",
      "             last_letter = 'a'            female : male   =     35.4 : 1.0\n",
      "             last_letter = 'f'              male : female =     16.7 : 1.0\n",
      "             last_letter = 'p'              male : female =     11.9 : 1.0\n",
      "             last_letter = 'v'              male : female =      9.9 : 1.0\n",
      "             last_letter = 'd'              male : female =      9.6 : 1.0\n",
      "             last_letter = 'o'              male : female =      9.2 : 1.0\n",
      "             last_letter = 'm'              male : female =      8.8 : 1.0\n",
      "             last_letter = 'r'              male : female =      7.1 : 1.0\n",
      "             last_letter = 'w'              male : female =      5.1 : 1.0\n",
      "None\n"
     ]
    }
   ],
   "source": [
    "print(classifier.show_most_informative_features(10))"
   ]
  },
  {
   "cell_type": "code",
   "execution_count": 191,
   "id": "7fddecc3",
   "metadata": {},
   "outputs": [],
   "source": [
    "errors = []\n",
    "\n",
    "for (name, tag) in labeled_names[:500]:\n",
    "    guess = classifier.classify(gender_features(name))\n",
    "    if guess != tag:\n",
    "        errors.append([tag, guess, name])"
   ]
  },
  {
   "cell_type": "code",
   "execution_count": 60,
   "id": "cf6f9333",
   "metadata": {},
   "outputs": [
    {
     "name": "stdout",
     "output_type": "stream",
     "text": [
      "correct = female   guessed = male     name = Lilian                        \n",
      "correct = female   guessed = male     name = Tamar                         \n",
      "correct = female   guessed = male     name = Winnifred                     \n",
      "correct = male     guessed = female   name = Andrea                        \n",
      "correct = male     guessed = female   name = Davie                         \n",
      "correct = male     guessed = female   name = Emmery                        \n",
      "correct = male     guessed = female   name = Jaime                         \n",
      "correct = male     guessed = female   name = Orbadiah                      \n",
      "correct = male     guessed = female   name = Shay                          \n",
      "correct = male     guessed = female   name = Tanney                        \n"
     ]
    }
   ],
   "source": [
    "for (tag, guess, name) in sorted(errors[:10]):\n",
    "    print('correct = {:<8} guessed = {:<8s} name = {:<30}'.format(tag, guess, name))"
   ]
  },
  {
   "cell_type": "code",
   "execution_count": 34,
   "id": "7c6e0090",
   "metadata": {},
   "outputs": [],
   "source": [
    "train_names = labeled_names[1500:]\n",
    "devtest_names = labeled_names[500:1500]\n",
    "test_names = labeled_names[:500]"
   ]
  },
  {
   "cell_type": "code",
   "execution_count": 36,
   "id": "a24aab84",
   "metadata": {},
   "outputs": [],
   "source": [
    "train_set2 = apply_features(gender_features, train_names)\n",
    "devtest_set = apply_features(gender_features, devtest_names)\n",
    "test_set2 = apply_features(gender_features, test_names)"
   ]
  },
  {
   "cell_type": "code",
   "execution_count": 37,
   "id": "f83f1790",
   "metadata": {},
   "outputs": [],
   "source": [
    "classifier2 = nltk.NaiveBayesClassifier.train(train_set2)"
   ]
  },
  {
   "cell_type": "code",
   "execution_count": 39,
   "id": "9372bbc1",
   "metadata": {},
   "outputs": [
    {
     "name": "stdout",
     "output_type": "stream",
     "text": [
      "Erin is a male\n"
     ]
    }
   ],
   "source": [
    "print('Erin is a ' + classifier2.classify(gender_features('Erin')))"
   ]
  },
  {
   "cell_type": "code",
   "execution_count": 40,
   "id": "632722e5",
   "metadata": {},
   "outputs": [
    {
     "name": "stdout",
     "output_type": "stream",
     "text": [
      "0.769\n"
     ]
    }
   ],
   "source": [
    "print(nltk.classify.accuracy(classifier2, devtest_set))"
   ]
  },
  {
   "cell_type": "code",
   "execution_count": 41,
   "id": "f562f4e3",
   "metadata": {},
   "outputs": [
    {
     "name": "stdout",
     "output_type": "stream",
     "text": [
      "Most Informative Features\n",
      "             last_letter = 'a'            female : male   =     36.9 : 1.0\n",
      "             last_letter = 'k'              male : female =     26.2 : 1.0\n",
      "             last_letter = 'f'              male : female =     15.4 : 1.0\n",
      "             last_letter = 'p'              male : female =     12.0 : 1.0\n",
      "             last_letter = 'd'              male : female =      9.1 : 1.0\n",
      "             last_letter = 'o'              male : female =      8.7 : 1.0\n",
      "             last_letter = 'v'              male : female =      8.6 : 1.0\n",
      "             last_letter = 'm'              male : female =      7.6 : 1.0\n",
      "             last_letter = 'r'              male : female =      6.3 : 1.0\n",
      "             last_letter = 'g'              male : female =      5.3 : 1.0\n"
     ]
    }
   ],
   "source": [
    "classifier2.show_most_informative_features(10)"
   ]
  },
  {
   "cell_type": "code",
   "execution_count": 42,
   "id": "9670e57e",
   "metadata": {},
   "outputs": [
    {
     "data": {
      "text/plain": [
       "0.762"
      ]
     },
     "execution_count": 42,
     "metadata": {},
     "output_type": "execute_result"
    }
   ],
   "source": [
    "nltk.classify.accuracy(classifier2, test_set2)"
   ]
  },
  {
   "cell_type": "code",
   "execution_count": 57,
   "id": "101a90d6",
   "metadata": {},
   "outputs": [],
   "source": [
    "errors = []\n",
    "for (name, tag) in devtest_names:\n",
    "    guess = classifier.classify(gender_features(name))\n",
    "    if guess != tag:\n",
    "        errors.append((tag, guess, name))"
   ]
  },
  {
   "cell_type": "code",
   "execution_count": 58,
   "id": "6420bf68",
   "metadata": {},
   "outputs": [
    {
     "name": "stdout",
     "output_type": "stream",
     "text": [
      "correct = male     guess = female   name = Orbadiah                      \n",
      "correct = male     guess = female   name = Jaime                         \n",
      "correct = female   guess = male     name = Winnifred                     \n",
      "correct = male     guess = female   name = Emmery                        \n",
      "correct = male     guess = female   name = Shay                          \n",
      "correct = male     guess = female   name = Andrea                        \n",
      "correct = female   guess = male     name = Lilian                        \n",
      "correct = male     guess = female   name = Tanney                        \n",
      "correct = male     guess = female   name = Davie                         \n",
      "correct = female   guess = male     name = Tamar                         \n"
     ]
    }
   ],
   "source": [
    "for (tag, guess, name) in errors[:10]:\n",
    "    print('correct = {:<8} guess = {:<8s} name = {:<30}'.format(tag, guess, name))"
   ]
  },
  {
   "cell_type": "code",
   "execution_count": 45,
   "id": "6ab58547",
   "metadata": {},
   "outputs": [],
   "source": [
    "#refining feature function\n",
    "def gender_feature2(word):\n",
    "    return {'suffix1': word[-1:], 'suffix2': word[-2:]}"
   ]
  },
  {
   "cell_type": "code",
   "execution_count": 46,
   "id": "d4850063",
   "metadata": {},
   "outputs": [],
   "source": [
    "train_set3 = apply_features(gender_feature2, train_names)\n",
    "devtest_set2 = apply_features(gender_feature2, devtest_names)\n",
    "test_set3 = apply_features(gender_feature2, test_names)\n",
    "Classifier = nltk.classify.NaiveBayesClassifier.train(train_set3)"
   ]
  },
  {
   "cell_type": "code",
   "execution_count": 47,
   "id": "abafb483",
   "metadata": {},
   "outputs": [
    {
     "data": {
      "text/plain": [
       "0.791"
      ]
     },
     "execution_count": 47,
     "metadata": {},
     "output_type": "execute_result"
    }
   ],
   "source": [
    "nltk.classify.accuracy(Classifier, devtest_set2)"
   ]
  },
  {
   "cell_type": "code",
   "execution_count": 48,
   "id": "2e599bd8",
   "metadata": {},
   "outputs": [
    {
     "name": "stdout",
     "output_type": "stream",
     "text": [
      "Most Informative Features\n",
      "                 suffix2 = 'na'           female : male   =     86.6 : 1.0\n",
      "                 suffix2 = 'la'           female : male   =     67.3 : 1.0\n",
      "                 suffix2 = 'ia'           female : male   =     44.9 : 1.0\n",
      "                 suffix1 = 'a'            female : male   =     36.9 : 1.0\n",
      "                 suffix2 = 'us'             male : female =     34.6 : 1.0\n",
      "                 suffix2 = 'ra'           female : male   =     32.8 : 1.0\n",
      "                 suffix2 = 'sa'           female : male   =     28.0 : 1.0\n",
      "                 suffix2 = 'ta'           female : male   =     27.7 : 1.0\n",
      "                 suffix1 = 'k'              male : female =     26.2 : 1.0\n",
      "                 suffix2 = 'do'             male : female =     25.2 : 1.0\n"
     ]
    }
   ],
   "source": [
    "Classifier.show_most_informative_features(10)"
   ]
  },
  {
   "cell_type": "code",
   "execution_count": 49,
   "id": "6f4cdea6",
   "metadata": {},
   "outputs": [
    {
     "data": {
      "text/plain": [
       "0.79"
      ]
     },
     "execution_count": 49,
     "metadata": {},
     "output_type": "execute_result"
    }
   ],
   "source": [
    "nltk.classify.accuracy(Classifier, test_set3)"
   ]
  },
  {
   "cell_type": "code",
   "execution_count": 52,
   "id": "a4844cb0",
   "metadata": {},
   "outputs": [],
   "source": [
    "error = []\n",
    "for (name, tag) in devtest_names:\n",
    "    guess = Classifier.classify(gender_feature2(name))\n",
    "    if guess != tag:\n",
    "        error.append((tag, guess, name))"
   ]
  },
  {
   "cell_type": "code",
   "execution_count": 55,
   "id": "74c5c510",
   "metadata": {},
   "outputs": [
    {
     "name": "stdout",
     "output_type": "stream",
     "text": [
      "correct = male                 guess = female               name = Orbadiah\n",
      "correct = male                 guess = female               name = Jaime\n",
      "correct = female               guess = male                 name = Winnifred\n",
      "correct = male                 guess = female               name = Emmery\n",
      "correct = male                 guess = female               name = Andrea\n",
      "correct = female               guess = male                 name = Lilian\n",
      "correct = male                 guess = female               name = Davie\n",
      "correct = female               guess = male                 name = Tamar\n",
      "correct = female               guess = male                 name = Conney\n",
      "correct = male                 guess = female               name = Zebedee\n"
     ]
    }
   ],
   "source": [
    "for (tag, guess, name) in error[:10]:\n",
    "    print('correct = {:<20} guess = {:<20} name = {}'.format(tag, guess, name))"
   ]
  },
  {
   "cell_type": "markdown",
   "id": "f2f35f1b",
   "metadata": {},
   "source": [
    "Document classification"
   ]
  },
  {
   "cell_type": "code",
   "execution_count": 83,
   "id": "d921a51d",
   "metadata": {},
   "outputs": [],
   "source": [
    "documents = [(list(movie_reviews.words(fileid)), category) for fileid in movie_reviews.fileids()\n",
    "                  for category in movie_reviews.categories()]\n",
    "\n",
    "random.shuffle(documents)"
   ]
  },
  {
   "cell_type": "code",
   "execution_count": 129,
   "id": "b752cc86",
   "metadata": {},
   "outputs": [],
   "source": [
    "all_words = nltk.FreqDist(w.lower() for w in movie_reviews.words())\n",
    "word_features = list(all_words)"
   ]
  },
  {
   "cell_type": "code",
   "execution_count": 128,
   "id": "ce23ce18",
   "metadata": {},
   "outputs": [],
   "source": [
    "#words = set(w.lower() for w in movie_reviews.words())\n",
    "#print(sorted(list(words)))"
   ]
  },
  {
   "cell_type": "code",
   "execution_count": 144,
   "id": "af3e1562",
   "metadata": {},
   "outputs": [],
   "source": [
    "def generate_feature(document):\n",
    "    document_words = set(document)\n",
    "    feature = {}\n",
    "    for word in word_features:\n",
    "        feature['contais({})'.format(word)]=(word in document_words)\n",
    "    return feature"
   ]
  },
  {
   "cell_type": "code",
   "execution_count": 151,
   "id": "a7a4ff75",
   "metadata": {},
   "outputs": [
    {
     "name": "stdout",
     "output_type": "stream",
     "text": [
      "4000\n",
      "3600\n",
      "400\n"
     ]
    }
   ],
   "source": [
    "data_length = len(documents)\n",
    "\n",
    "train_set = apply_features(generate_feature, documents[:int(data_length*.9)])\n",
    "test_set = apply_features(generate_feature, documents[int(data_length*.9):])\n",
    "\n",
    "print(len(documents))\n",
    "print(len(train_set))\n",
    "print(len(test_set))"
   ]
  },
  {
   "cell_type": "code",
   "execution_count": 152,
   "id": "dfde7fe4",
   "metadata": {},
   "outputs": [],
   "source": [
    "classifier = nltk.NaiveBayesClassifier.train(train_set)"
   ]
  },
  {
   "cell_type": "code",
   "execution_count": 153,
   "id": "2c04bc9c",
   "metadata": {},
   "outputs": [
    {
     "data": {
      "text/plain": [
       "'neg'"
      ]
     },
     "execution_count": 153,
     "metadata": {},
     "output_type": "execute_result"
    }
   ],
   "source": [
    "classifier.classify(generate_feature(movie_reviews.words(fileids = 'neg/cv000_29416.txt')))"
   ]
  },
  {
   "cell_type": "markdown",
   "id": "f64d7f00",
   "metadata": {},
   "source": [
    "Dialogue classification"
   ]
  },
  {
   "cell_type": "code",
   "execution_count": 154,
   "id": "a6d3cc60",
   "metadata": {},
   "outputs": [],
   "source": [
    "posts = nltk.corpus.nps_chat.xml_posts()\n",
    "\n",
    "def dialogue_act_features(post):\n",
    "     features = {}\n",
    "     for word in nltk.word_tokenize(post):\n",
    "         features['contains({})'.format(word.lower())] = True\n",
    "     return features"
   ]
  },
  {
   "cell_type": "code",
   "execution_count": 155,
   "id": "90eb86ea",
   "metadata": {},
   "outputs": [
    {
     "name": "stdout",
     "output_type": "stream",
     "text": [
      "[({'contains(now)': True, 'contains(im)': True, 'contains(left)': True, 'contains(with)': True, 'contains(this)': True, 'contains(gay)': True, 'contains(name)': True}, 'Statement'), ({'contains(:)': True, 'contains(p)': True}, 'Emotion')]\n",
      "0.6335227272727273\n"
     ]
    }
   ],
   "source": [
    "featuresets = [(dialogue_act_features(post.text), post.get('class')) for post in posts]\n",
    "print(featuresets[:2])\n",
    "\n",
    "random.shuffle(featuresets)\n",
    "\n",
    "size = int(len(featuresets) * 0.1)\n",
    "train_set, test_set = featuresets[size:], featuresets[:size]\n",
    "\n",
    "classifier = nltk.NaiveBayesClassifier.train(train_set)\n",
    "\n",
    "print(nltk.classify.accuracy(classifier, test_set))"
   ]
  },
  {
   "cell_type": "code",
   "execution_count": 156,
   "id": "d77c4331",
   "metadata": {},
   "outputs": [
    {
     "name": "stdout",
     "output_type": "stream",
     "text": [
      "Most Informative Features\n",
      "             contains(>) = True            Other : System =    536.2 : 1.0\n",
      "          contains(part) = True           System : Statem =    442.0 : 1.0\n",
      "            contains(no) = True           nAnswe : System =    441.6 : 1.0\n",
      "            contains(hi) = True            Greet : System =    435.5 : 1.0\n",
      "         contains(empty) = True            Other : System =    396.3 : 1.0\n",
      "           contains(brb) = True              Bye : Statem =    312.3 : 1.0\n",
      "          contains(nope) = True           nAnswe : Statem =    255.8 : 1.0\n",
      "           contains(are) = True           whQues : System =    210.8 : 1.0\n",
      "           contains(yes) = True           yAnswe : System =    202.2 : 1.0\n",
      "          contains(what) = True           whQues : Greet  =    194.1 : 1.0\n"
     ]
    }
   ],
   "source": [
    "classifier.show_most_informative_features(10)\n"
   ]
  },
  {
   "cell_type": "raw",
   "id": "300f8aeb",
   "metadata": {},
   "source": []
  },
  {
   "cell_type": "markdown",
   "id": "dee64dd1",
   "metadata": {},
   "source": [
    "Evaluation"
   ]
  },
  {
   "cell_type": "code",
   "execution_count": 157,
   "id": "84401137",
   "metadata": {},
   "outputs": [
    {
     "name": "stdout",
     "output_type": "stream",
     "text": [
      "{515, 517, 1031, 1039, 535, 26, 1050, 31, 37, 41, 564, 64, 69, 585, 587, 588, 87, 97, 110, 115, 119, 637, 133, 647, 144, 146, 662, 666, 671, 163, 676, 165, 680, 169, 177, 708, 710, 205, 209, 726, 224, 739, 232, 753, 760, 761, 260, 772, 782, 790, 792, 793, 290, 298, 307, 315, 831, 330, 851, 854, 855, 345, 349, 868, 870, 359, 360, 365, 373, 889, 394, 401, 407, 409, 414, 930, 935, 424, 936, 937, 944, 437, 962, 964, 453, 967, 969, 472, 473, 476, 480, 1004, 1005, 494, 1015, 504, 1017, 1020}\n",
      "{515, 260, 517, 1031, 394, 782, 1039, 144, 662, 407, 790, 409, 792, 793, 1049, 1050, 414, 31, 290, 163, 930, 37, 935, 680, 41, 169, 298, 177, 307, 310, 64, 962, 708, 69, 453, 710, 964, 585, 967, 587, 588, 205, 969, 209, 851, 726, 854, 855, 345, 473, 476, 889, 224, 480, 870, 359, 232, 360, 1004, 365, 110, 494, 760, 753, 1005, 115, 1015, 504, 761, 1020, 637, 767}\n"
     ]
    }
   ],
   "source": [
    "from nltk.metrics.scores import (precision, recall, f_measure)\n",
    "import collections\n",
    "\n",
    "refsets = collections.defaultdict(set)\n",
    "testsets = collections.defaultdict(set)\n",
    "\n",
    "for i, (feats, label) in enumerate(test_set):\n",
    "    refsets[label].add(i)\n",
    "    observed = classifier.classify(feats)\n",
    "    testsets[observed].add(i)\n",
    "\n",
    "print(refsets['Emotion'])\n",
    "print(testsets['Emotion'])"
   ]
  },
  {
   "cell_type": "code",
   "execution_count": 158,
   "id": "fe9341cc",
   "metadata": {},
   "outputs": [
    {
     "name": "stdout",
     "output_type": "stream",
     "text": [
      "dict_keys(['ynQuestion', 'whQuestion', 'Greet', 'Bye', 'Statement', 'System', 'Emphasis', 'Accept', 'Emotion', 'Continuer', 'Reject', 'Clarify', 'yAnswer', 'nAnswer', 'Other'])\n",
      "Precision:  0.9583333333333334\n",
      "Recall:  0.7040816326530612\n",
      "F Score:  0.8117647058823528\n"
     ]
    }
   ],
   "source": [
    "print(refsets.keys())\n",
    "    \n",
    "print(\"Precision: \", precision(refsets['Emotion'], testsets['Emotion']))\n",
    "\n",
    "print(\"Recall: \", recall(refsets['Emotion'], testsets['Emotion']))\n",
    "    \n",
    "print(\"F Score: \", f_measure(refsets['Emotion'], testsets['Emotion']))"
   ]
  },
  {
   "cell_type": "code",
   "execution_count": null,
   "id": "f2b52f52",
   "metadata": {},
   "outputs": [],
   "source": []
  },
  {
   "cell_type": "markdown",
   "id": "56e8ab75",
   "metadata": {},
   "source": [
    "Confusion Matrix"
   ]
  },
  {
   "cell_type": "code",
   "execution_count": 160,
   "id": "ff448947",
   "metadata": {},
   "outputs": [
    {
     "name": "stdout",
     "output_type": "stream",
     "text": [
      "1056\n",
      "['ynQuestion', 'whQuestion', 'Greet', 'Bye', 'Statement', 'System', 'Statement', 'System', 'Greet', 'Emphasis', 'Statement', 'Statement', 'Statement', 'Statement', 'whQuestion', 'Statement', 'Statement', 'Statement', 'Statement', 'Accept']\n"
     ]
    }
   ],
   "source": [
    "answer = [tag for (document, tag) in test_set]\n",
    "\n",
    "print(len(answer))\n",
    "print(answer[:20])"
   ]
  },
  {
   "cell_type": "code",
   "execution_count": 163,
   "id": "9b652d6e",
   "metadata": {},
   "outputs": [
    {
     "name": "stdout",
     "output_type": "stream",
     "text": [
      "1056\n",
      "['Other', 'whQuestion', 'Greet', 'Bye', 'nAnswer', 'System', 'nAnswer', 'System', 'Greet', 'whQuestion', 'Greet', 'Statement', 'Statement', 'Statement', 'whQuestion', 'Statement', 'Other', 'Clarify', 'Clarify', 'yAnswer', 'System', 'System', 'Other', 'Greet', 'Clarify', 'System', 'Statement', 'ynQuestion', 'nAnswer', 'System']\n"
     ]
    }
   ],
   "source": [
    "guesses = []\n",
    "for (document, tag) in test_set:\n",
    "    guess_this = classifier.classify(document)\n",
    "    guesses.append(guess_this)\n",
    "\n",
    "print(len(guesses))\n",
    "print(guesses[:30])"
   ]
  },
  {
   "cell_type": "code",
   "execution_count": 164,
   "id": "3c6d015e",
   "metadata": {},
   "outputs": [
    {
     "name": "stdout",
     "output_type": "stream",
     "text": [
      "           |                                  w      y                      |\n",
      "           |      S                           h      n                      |\n",
      "           |      t                           Q      Q      E               |\n",
      "           |      a                    E      u      u      m               |\n",
      "           |      t      S             m      e      e      p      A      R |\n",
      "           |      e      y      G      o      s      s      h      c      e |\n",
      "           |      m      s      r      t      t      t      a      c      j |\n",
      "           |      e      t      e      i      i      i      s      e      e |\n",
      "           |      n      e      e      o      o      o      i      p      c |\n",
      "           |      t      m      t      n      n      n      s      t      t |\n",
      "-----------+----------------------------------------------------------------+\n",
      " Statement | <14.6%>  0.2%   0.5%   0.2%   0.7%   1.3%   1.0%   0.4%   2.0% |\n",
      "    System |      . <21.2%>     .      .   0.1%      .   0.4%      .   0.5% |\n",
      "     Greet |   0.3%      . <10.2%>  0.1%   0.6%   0.1%   0.5%      .      . |\n",
      "   Emotion |   1.1%      .   0.1%  <6.5%>     .      .   0.5%      .      . |\n",
      "whQuestion |   0.1%      .      .      .  <3.5%>  0.7%   0.1%      .      . |\n",
      "ynQuestion |   0.4%      .      .      .   0.6%  <2.6%>  0.1%      .   0.1% |\n",
      "  Emphasis |   0.3%      .      .      .   0.1%      .  <1.5%>  0.1%      . |\n",
      "    Accept |   0.9%      .      .      .   0.1%      .   0.1%  <0.7%>     . |\n",
      "    Reject |   0.6%      .      .      .   0.1%   0.2%   0.3%      .  <0.6%>|\n",
      "-----------+----------------------------------------------------------------+\n",
      "(row = reference; col = test)\n",
      "\n"
     ]
    }
   ],
   "source": [
    "cm = nltk.ConfusionMatrix(answer, guesses)\n",
    "print(cm.pretty_format(sort_by_count=True, show_percents=True, truncate=9))"
   ]
  }
 ],
 "metadata": {
  "kernelspec": {
   "display_name": "Python 3 (ipykernel)",
   "language": "python",
   "name": "python3"
  },
  "language_info": {
   "codemirror_mode": {
    "name": "ipython",
    "version": 3
   },
   "file_extension": ".py",
   "mimetype": "text/x-python",
   "name": "python",
   "nbconvert_exporter": "python",
   "pygments_lexer": "ipython3",
   "version": "3.9.13"
  }
 },
 "nbformat": 4,
 "nbformat_minor": 5
}
